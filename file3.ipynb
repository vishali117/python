{
 "cells": [
  {
   "cell_type": "code",
   "execution_count": 1,
   "metadata": {},
   "outputs": [
    {
     "name": "stdout",
     "output_type": "stream",
     "text": [
      "((()()))()\n",
      "6\n"
     ]
    }
   ],
   "source": [
    "s= input()\n",
    "print(s.count(\"()\")*2)"
   ]
  },
  {
   "cell_type": "code",
   "execution_count": 2,
   "metadata": {},
   "outputs": [
    {
     "ename": "SyntaxError",
     "evalue": "unexpected EOF while parsing (<ipython-input-2-d46fc4fe5d2a>, line 2)",
     "output_type": "error",
     "traceback": [
      "\u001b[1;36m  File \u001b[1;32m\"<ipython-input-2-d46fc4fe5d2a>\"\u001b[1;36m, line \u001b[1;32m2\u001b[0m\n\u001b[1;33m    for i in s:\u001b[0m\n\u001b[1;37m               ^\u001b[0m\n\u001b[1;31mSyntaxError\u001b[0m\u001b[1;31m:\u001b[0m unexpected EOF while parsing\n"
     ]
    }
   ],
   "source": [
    "s = \"abc123\"\n",
    "for i in s:"
   ]
  },
  {
   "cell_type": "code",
   "execution_count": 4,
   "metadata": {},
   "outputs": [
    {
     "name": "stdout",
     "output_type": "stream",
     "text": [
      "abcABC123\n",
      "False\n"
     ]
    }
   ],
   "source": [
    "# input : \"abcABC123\"\n",
    "# output : uppercase:3 lowercase:3 digits:3 vowel:2 consonant:4\n",
    "s = input()\n",
    "print(s.islower())"
   ]
  },
  {
   "cell_type": "code",
   "execution_count": 12,
   "metadata": {},
   "outputs": [
    {
     "name": "stdout",
     "output_type": "stream",
     "text": [
      "Uppercase - 3\n",
      "Lowercase - 3\n",
      "Digit - 3\n"
     ]
    }
   ],
   "source": [
    "string ='abcABC123'\n",
    "newstring ='' \n",
    "count1 = 0\n",
    "count2 = 0\n",
    "count3 = 0\n",
    "  \n",
    "for a in string: \n",
    "# Checking for lowercase letter and converting to uppercase. \n",
    "    if (a.isupper()) == True: \n",
    "        count1+= 1\n",
    "        newstring+=(a.lower()) \n",
    "# Checking for uppercase letter and converting to lowercase. \n",
    "    elif (a.islower()) == True: \n",
    "        count2+= 1\n",
    "        newstring+=(a.upper()) \n",
    "# Checking for whitespace letter and adding it to the new string as it is. \n",
    "    elif (a.isdigit()) == True: \n",
    "        count3+= 1\n",
    "        newstring+= a \n",
    "print(\"Uppercase -\", count1) \n",
    "print(\"Lowercase -\", count2) \n",
    "print(\"Digit -\", count3) \n"
   ]
  },
  {
   "cell_type": "code",
   "execution_count": 16,
   "metadata": {},
   "outputs": [
    {
     "name": "stdout",
     "output_type": "stream",
     "text": [
      "abcdANMH123456\n",
      "uppercase: 4 lowercase: 4 digit: 6\n"
     ]
    }
   ],
   "source": [
    "s = input()\n",
    "u = 0\n",
    "l = 0\n",
    "d = 0\n",
    "for i in s:\n",
    "    if i.isupper():\n",
    "        u+=1\n",
    "    elif i.islower():\n",
    "        l+=1\n",
    "    elif i.isdigit():\n",
    "        d+=1\n",
    "print(\"uppercase:\",u,\"lowercase:\",l,\"digit:\",d)"
   ]
  },
  {
   "cell_type": "code",
   "execution_count": 22,
   "metadata": {},
   "outputs": [
    {
     "name": "stdout",
     "output_type": "stream",
     "text": [
      "ABC\n",
      "abc\n"
     ]
    }
   ],
   "source": [
    "#upper and lower methods for conversions\n",
    "s = \"abc\"\n",
    "print(s.upper())\n",
    "print(s.lower())"
   ]
  },
  {
   "cell_type": "code",
   "execution_count": 28,
   "metadata": {},
   "outputs": [
    {
     "name": "stdout",
     "output_type": "stream",
     "text": [
      "Enter a character: t\n",
      "t is a Consonant\n"
     ]
    }
   ],
   "source": [
    "ch = input(\"Enter a character: \")\n",
    "\n",
    "if(ch=='A' or ch=='a' or ch=='E' or ch =='e' or ch=='I'\n",
    " or ch=='i' or ch=='O' or ch=='o' or ch=='U' or ch=='u'):\n",
    "    print(ch, \"is a Vowel\")\n",
    "else:\n",
    "    print(ch, \"is a Consonant\")"
   ]
  },
  {
   "cell_type": "code",
   "execution_count": 33,
   "metadata": {},
   "outputs": [
    {
     "name": "stdout",
     "output_type": "stream",
     "text": [
      "hcjdkhcnio\n",
      "vowel: 2 consonant: 8\n"
     ]
    }
   ],
   "source": [
    "s = input()\n",
    "v = 0\n",
    "c = 0\n",
    "for ch in s:\n",
    "    if(ch=='A' or ch=='a' or ch=='E' or ch =='e' or ch=='I'\n",
    " or ch=='i' or ch=='O' or ch=='o' or ch=='U' or ch=='u'):\n",
    "        v+=1\n",
    "    else:\n",
    "        c+=1\n",
    "print(\"vowel:\",v,\"consonant:\",c)"
   ]
  },
  {
   "cell_type": "code",
   "execution_count": null,
   "metadata": {},
   "outputs": [],
   "source": [
    "# input:\n",
    "# bad water\n",
    "# output:\n",
    "b-w\n",
    "a-a\n",
    "d-t\n",
    "*-e\n",
    "*-r\n",
    "x=\"bad\"\n",
    "y=\"water\"\n",
    "z=print(len(x))\n",
    "a=print(len(y))\n",
    "if x<y:\n",
    "    print(z+'*')\n"
   ]
  },
  {
   "cell_type": "code",
   "execution_count": null,
   "metadata": {},
   "outputs": [],
   "source": [
    "# inout: orange\n",
    "# output: puboif(+121121)\n",
    "x=str(input(\"enter any name\"))\n",
    "x+=1\n",
    "print(x)"
   ]
  }
 ],
 "metadata": {
  "kernelspec": {
   "display_name": "Python 3",
   "language": "python",
   "name": "python3"
  },
  "language_info": {
   "codemirror_mode": {
    "name": "ipython",
    "version": 3
   },
   "file_extension": ".py",
   "mimetype": "text/x-python",
   "name": "python",
   "nbconvert_exporter": "python",
   "pygments_lexer": "ipython3",
   "version": "3.7.4"
  }
 },
 "nbformat": 4,
 "nbformat_minor": 2
}
