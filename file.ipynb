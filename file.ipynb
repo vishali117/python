{
 "cells": [
  {
   "cell_type": "code",
   "execution_count": 1,
   "metadata": {},
   "outputs": [
    {
     "name": "stdout",
     "output_type": "stream",
     "text": [
      "hello\n"
     ]
    }
   ],
   "source": [
    "print(\"hello\")\n"
   ]
  },
  {
   "cell_type": "markdown",
   "metadata": {},
   "source": [
    "x=int(input('enter x value'))\n",
    "if (x==10):\n",
    "    print('true')\n",
    "else:\n",
    "    print('False')\n",
    "\n",
    "\n",
    "# this is about false\n",
    "## this is about true\n",
    "### this is about program\n"
   ]
  },
  {
   "cell_type": "code",
   "execution_count": 15,
   "metadata": {},
   "outputs": [
    {
     "name": "stdout",
     "output_type": "stream",
     "text": [
      "enter x number: 20\n",
      "enter y number: 10\n",
      "<class 'int'> <class 'int'>\n"
     ]
    },
    {
     "data": {
      "text/plain": [
       "2.0"
      ]
     },
     "execution_count": 15,
     "metadata": {},
     "output_type": "execute_result"
    }
   ],
   "source": [
    "x= int(input(\"enter x number: \"))\n",
    "y=int(input(\"enter y number: \"))\n",
    "print(type(x),type(y))\n",
    "x+y\n",
    "x-y\n",
    "x*y\n",
    "x/y"
   ]
  },
  {
   "cell_type": "code",
   "execution_count": 29,
   "metadata": {},
   "outputs": [
    {
     "name": "stdout",
     "output_type": "stream",
     "text": [
      "enter your nametyuio\n",
      "enter your age78\n",
      "your name is:\n",
      " tyuio and age is  78\n"
     ]
    }
   ],
   "source": [
    "# accept name and age of a person and print the output in the following manner\n",
    "# output: my name is .... and age is ....\n",
    "name = (input(\"enter your name\"))\n",
    "age = int(input(\"enter your age\"))\n",
    "print(f\"your name is:\\n\"  ,name,end=\" \")\n",
    "print(\"\\n and age is \", age)"
   ]
  },
  {
   "cell_type": "code",
   "execution_count": 28,
   "metadata": {},
   "outputs": [
    {
     "name": "stdout",
     "output_type": "stream",
     "text": [
      "\n",
      "Here is a list of the Python keywords.  Enter any keyword to get more help.\n",
      "\n",
      "False               class               from                or\n",
      "None                continue            global              pass\n",
      "True                def                 if                  raise\n",
      "and                 del                 import              return\n",
      "as                  elif                in                  try\n",
      "assert              else                is                  while\n",
      "async               except              lambda              with\n",
      "await               finally             nonlocal            yield\n",
      "break               for                 not                 \n",
      "\n"
     ]
    }
   ],
   "source": [
    "help(\"keywords\")"
   ]
  },
  {
   "cell_type": "code",
   "execution_count": 34,
   "metadata": {},
   "outputs": [
    {
     "name": "stdout",
     "output_type": "stream",
     "text": [
      "(12+14j)\n",
      "(-4-4j)\n",
      "(-13+76j)\n",
      "(0.5310344827586206+0.027586206896551738j)\n"
     ]
    }
   ],
   "source": [
    "# data type:\n",
    "## 1.fundamental data types-->int, float, complex, boolean, string\n",
    "## 2.collection data types-->list, tuple, set, dictionary\n",
    "\n",
    "x = 4+5j\n",
    "y = complex(8,9)\n",
    "print(x+y)\n",
    "print(x-y)\n",
    "print(x*y)\n",
    "print(x/y)"
   ]
  },
  {
   "cell_type": "code",
   "execution_count": 43,
   "metadata": {},
   "outputs": [
    {
     "name": "stdout",
     "output_type": "stream",
     "text": [
      "enter any number25\n",
      "enter any number10\n",
      "enter any namebtg\n",
      "35.0\n",
      "15.0\n",
      "btg\n",
      "x is greater\n"
     ]
    }
   ],
   "source": [
    "x = int(input('enter any number'))\n",
    "y = float(input('enter any number'))\n",
    "z = str(input('enter any name'))\n",
    "print(x+y)\n",
    "print(x-y)\n",
    "print(z)\n",
    "if(x >= y):\n",
    "    print(\"x is greater\")\n",
    "else:\n",
    "    print(\"x is lessthan\")"
   ]
  },
  {
   "cell_type": "code",
   "execution_count": null,
   "metadata": {},
   "outputs": [],
   "source": []
  }
 ],
 "metadata": {
  "kernelspec": {
   "display_name": "Python 3",
   "language": "python",
   "name": "python3"
  },
  "language_info": {
   "codemirror_mode": {
    "name": "ipython",
    "version": 3
   },
   "file_extension": ".py",
   "mimetype": "text/x-python",
   "name": "python",
   "nbconvert_exporter": "python",
   "pygments_lexer": "ipython3",
   "version": "3.7.4"
  }
 },
 "nbformat": 4,
 "nbformat_minor": 2
}
